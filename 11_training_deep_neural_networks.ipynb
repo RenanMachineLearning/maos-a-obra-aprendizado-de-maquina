{
 "cells": [
  {
   "cell_type": "code",
   "execution_count": 1,
   "id": "4b6a6711-fcf9-4c2a-9955-ece5cf917f82",
   "metadata": {},
   "outputs": [
    {
     "name": "stderr",
     "output_type": "stream",
     "text": [
      "2024-09-04 14:02:00.271594: E external/local_xla/xla/stream_executor/cuda/cuda_dnn.cc:9261] Unable to register cuDNN factory: Attempting to register factory for plugin cuDNN when one has already been registered\n",
      "2024-09-04 14:02:00.271880: E external/local_xla/xla/stream_executor/cuda/cuda_fft.cc:607] Unable to register cuFFT factory: Attempting to register factory for plugin cuFFT when one has already been registered\n",
      "2024-09-04 14:02:00.588195: E external/local_xla/xla/stream_executor/cuda/cuda_blas.cc:1515] Unable to register cuBLAS factory: Attempting to register factory for plugin cuBLAS when one has already been registered\n",
      "2024-09-04 14:02:01.284677: I tensorflow/core/platform/cpu_feature_guard.cc:182] This TensorFlow binary is optimized to use available CPU instructions in performance-critical operations.\n",
      "To enable the following instructions: AVX2 FMA, in other operations, rebuild TensorFlow with the appropriate compiler flags.\n",
      "2024-09-04 14:02:22.881661: W tensorflow/compiler/tf2tensorrt/utils/py_utils.cc:38] TF-TRT Warning: Could not find TensorRT\n"
     ]
    }
   ],
   "source": [
    "import sys\n",
    "import tensorflow as tf\n",
    "import os\n",
    "\n",
    "os.environ['CUDA_VISIBLE_DEVICES'] = '-1'"
   ]
  },
  {
   "cell_type": "code",
   "execution_count": 2,
   "id": "1b54912b-8feb-464b-a39d-cc19af8f021c",
   "metadata": {},
   "outputs": [
    {
     "name": "stdout",
     "output_type": "stream",
     "text": [
      "[]\n"
     ]
    },
    {
     "name": "stderr",
     "output_type": "stream",
     "text": [
      "2024-09-04 14:02:34.063662: E external/local_xla/xla/stream_executor/cuda/cuda_driver.cc:274] failed call to cuInit: CUDA_ERROR_NO_DEVICE: no CUDA-capable device is detected\n",
      "2024-09-04 14:02:34.063717: I external/local_xla/xla/stream_executor/cuda/cuda_diagnostics.cc:129] retrieving CUDA diagnostic information for host: renan-Latitude-3450\n",
      "2024-09-04 14:02:34.063739: I external/local_xla/xla/stream_executor/cuda/cuda_diagnostics.cc:136] hostname: renan-Latitude-3450\n",
      "2024-09-04 14:02:34.063866: I external/local_xla/xla/stream_executor/cuda/cuda_diagnostics.cc:159] libcuda reported version is: 535.183.1\n",
      "2024-09-04 14:02:34.063910: I external/local_xla/xla/stream_executor/cuda/cuda_diagnostics.cc:163] kernel reported version is: 535.183.1\n",
      "2024-09-04 14:02:34.063921: I external/local_xla/xla/stream_executor/cuda/cuda_diagnostics.cc:241] kernel version seems to match DSO: 535.183.1\n"
     ]
    }
   ],
   "source": [
    "print(tf.config.list_physical_devices('GPU'))"
   ]
  },
  {
   "cell_type": "markdown",
   "id": "56c69db2-bfcc-4ede-b6b5-42be28eb42f2",
   "metadata": {},
   "source": [
    "# Vanishing and Exploding Gradients Problem"
   ]
  },
  {
   "cell_type": "markdown",
   "id": "74a50a38-21e8-4618-bc2c-818c53355cdc",
   "metadata": {},
   "source": [
    "### Xavier and He Initialization"
   ]
  },
  {
   "cell_type": "markdown",
   "id": "59da2027-3be3-4bd5-bbd7-b1ade9a9cd3c",
   "metadata": {},
   "source": [
    "Xavier or He is chosen by the activation that I want to use"
   ]
  },
  {
   "cell_type": "code",
   "execution_count": 3,
   "id": "030692b4-f895-4910-b263-802e4546970c",
   "metadata": {},
   "outputs": [],
   "source": [
    "# Xavier initialization\n",
    "dense = tf.keras.layers.Dense(50, activation=\"relu\",\n",
    "                             kernel_initializer=\"he_normal\")"
   ]
  },
  {
   "cell_type": "code",
   "execution_count": 4,
   "id": "df5fae3a-4490-40e7-b813-6bb53681a00b",
   "metadata": {},
   "outputs": [],
   "source": [
    "# He initialization\n",
    "he_avg_init = tf.keras.initializers.VarianceScaling(scale=2., mode=\"fan_avg\", \n",
    "                                                    distribution=\"uniform\")\n",
    "dense = tf.keras.layers.Dense(50, activation=\"sigmoid\",\n",
    "                             kernel_initializer=he_avg_init)"
   ]
  },
  {
   "cell_type": "markdown",
   "id": "6cdf6c73-c7b9-45bd-9833-a90e598b4009",
   "metadata": {},
   "source": [
    "### Nonsaturating Activation Functions"
   ]
  },
  {
   "cell_type": "code",
   "execution_count": 5,
   "id": "c20cfe18-93ef-447f-8855-0a09a2dd7d6e",
   "metadata": {},
   "outputs": [],
   "source": [
    "# Leaky ReLU\n",
    "\n",
    "leaky_relu = tf.keras.layers.LeakyReLU(alpha=0.2)\n",
    "dense = tf.keras.layers.Dense(30, activation=leaky_relu,\n",
    "                             kernel_initializer=\"he_normal\")"
   ]
  },
  {
   "cell_type": "markdown",
   "id": "5b31a1d4-8256-42a1-bf9a-f7a617274a38",
   "metadata": {},
   "source": [
    "Create a `LeakyReLU` layer and add it to the model right after the layer you want to apply it to."
   ]
  },
  {
   "cell_type": "code",
   "execution_count": 6,
   "id": "1b11a30a-a64f-48fb-b548-b3b5d66461f2",
   "metadata": {},
   "outputs": [],
   "source": [
    "model = tf.keras.models.Sequential([\n",
    "    # more layers\n",
    "    tf.keras.layers.Dense(50, kernel_initializer=\"he_normal\"),  # no activation\n",
    "    tf.keras.layers.LeakyReLU(alpha=0.2),  # activation as a separete layer\n",
    "    # more layers\n",
    "])"
   ]
  },
  {
   "cell_type": "code",
   "execution_count": 7,
   "id": "6df42ac0-6728-431f-8b40-88c08d6980d5",
   "metadata": {},
   "outputs": [],
   "source": [
    "# ELU\n",
    "dense = tf.keras.layers.Dense(50, activation=\"elu\",\n",
    "                             kernel_initializer=\"he_normal\")"
   ]
  },
  {
   "cell_type": "code",
   "execution_count": 8,
   "id": "e2ae75dc-b6e2-498e-868d-77e8f5d73de2",
   "metadata": {},
   "outputs": [],
   "source": [
    "# SELU\n",
    "dense = tf.keras.layers.Dense(50, activation=\"selu\",\n",
    "                             kernel_initializer=\"lecun_normal\")"
   ]
  },
  {
   "cell_type": "code",
   "execution_count": 9,
   "id": "91fc77f1-3c36-44dd-9a2f-6b2dacf09a89",
   "metadata": {},
   "outputs": [],
   "source": [
    "# Creating a NN using SELU\n",
    "tf.random.set_seed(42)\n",
    "model = tf.keras.Sequential()\n",
    "model.add(tf.keras.layers.Flatten(input_shape=[28, 28]))\n",
    "for layer in range(100):\n",
    "    model.add(tf.keras.layers.Dense(100, activation=\"selu\",\n",
    "                                    kernel_initializer=\"lecun_normal\"))\n",
    "model.add(tf.keras.layers.Dense(10, activation=\"softmax\"))\n",
    "\n",
    "model.compile(loss=\"sparse_categorical_crossentropy\",\n",
    "              optimizer=tf.keras.optimizers.SGD(learning_rate=0.001),\n",
    "              metrics=[\"accuracy\"])"
   ]
  },
  {
   "cell_type": "code",
   "execution_count": 10,
   "id": "4d6d36b3-9668-4fb1-90c3-0c52a1802a7a",
   "metadata": {},
   "outputs": [],
   "source": [
    "fashion_mnist = tf.keras.datasets.fashion_mnist.load_data()\n",
    "(X_train_full, y_train_full), (X_test, y_test) = fashion_mnist\n",
    "X_train, y_train = X_train_full[:-5000], y_train_full[:-5000]\n",
    "X_valid, y_valid = X_train_full[-5000:], y_train_full[-5000:]\n",
    "X_train, X_valid, X_test = X_train / 255, X_valid / 255, X_test / 255"
   ]
  },
  {
   "cell_type": "code",
   "execution_count": 11,
   "id": "40507b55-4f97-4e5d-9998-d50999ab195e",
   "metadata": {},
   "outputs": [],
   "source": [
    "class_names = [\"T-shirt/top\", \"Trouser\", \"Pullover\", \"Dress\", \"Coat\",\n",
    "               \"Sandal\", \"Shirt\", \"Sneaker\", \"Bag\", \"Ankle boot\"]"
   ]
  },
  {
   "cell_type": "code",
   "execution_count": 12,
   "id": "0d96a15f-6b2e-4598-9746-3718f5b906d1",
   "metadata": {},
   "outputs": [],
   "source": [
    "pixel_means = X_train.mean(axis=0, keepdims=True)\n",
    "pixel_stds = X_train.std(axis=0, keepdims=True)\n",
    "X_train_scaled = (X_train - pixel_means) / pixel_stds\n",
    "X_valid_scaled = (X_valid - pixel_means) / pixel_stds\n",
    "X_test_scaled = (X_test - pixel_means) / pixel_stds"
   ]
  },
  {
   "cell_type": "code",
   "execution_count": 13,
   "id": "b425851c-b1d8-443d-93d9-d39b8e92605d",
   "metadata": {},
   "outputs": [
    {
     "name": "stderr",
     "output_type": "stream",
     "text": [
      "2024-09-04 14:02:39.541153: W external/local_tsl/tsl/framework/cpu_allocator_impl.cc:83] Allocation of 172480000 exceeds 10% of free system memory.\n"
     ]
    },
    {
     "name": "stdout",
     "output_type": "stream",
     "text": [
      "Epoch 1/5\n",
      "1719/1719 [==============================] - 32s 14ms/step - loss: 1.3171 - accuracy: 0.4902 - val_loss: 1.0487 - val_accuracy: 0.5708\n",
      "Epoch 2/5\n",
      "1719/1719 [==============================] - 26s 15ms/step - loss: 0.9085 - accuracy: 0.6607 - val_loss: 0.8036 - val_accuracy: 0.7054\n",
      "Epoch 3/5\n",
      "1719/1719 [==============================] - 26s 15ms/step - loss: 0.8494 - accuracy: 0.6875 - val_loss: 0.7313 - val_accuracy: 0.7398\n",
      "Epoch 4/5\n",
      "1719/1719 [==============================] - 28s 16ms/step - loss: 0.7233 - accuracy: 0.7368 - val_loss: 0.6354 - val_accuracy: 0.7750\n",
      "Epoch 5/5\n",
      "1719/1719 [==============================] - 24s 14ms/step - loss: 0.6577 - accuracy: 0.7596 - val_loss: 0.8431 - val_accuracy: 0.7186\n"
     ]
    }
   ],
   "source": [
    "history = model.fit(X_train_scaled, y_train, epochs=5,\n",
    "                    validation_data=(X_valid_scaled, y_valid))"
   ]
  },
  {
   "cell_type": "markdown",
   "id": "5c2ad640-1c9a-418f-913b-8e862e48a411",
   "metadata": {},
   "source": [
    "### Batch Normalization"
   ]
  },
  {
   "cell_type": "code",
   "execution_count": 14,
   "id": "7400544e-ffe4-4d5f-8602-e210bdac47b4",
   "metadata": {},
   "outputs": [],
   "source": [
    "tf.keras.backend.clear_session()\n",
    "tf.random.set_seed(42)"
   ]
  },
  {
   "cell_type": "code",
   "execution_count": 15,
   "id": "e1a75fe9-9eae-4732-aefa-2884389d4296",
   "metadata": {},
   "outputs": [],
   "source": [
    "model = tf.keras.Sequential([\n",
    "    tf.keras.layers.Flatten(input_shape=[28, 28]),\n",
    "    tf.keras.layers.BatchNormalization(),\n",
    "    tf.keras.layers.Dense(300, activation=\"relu\",\n",
    "                         kernel_initializer=\"he_normal\"),\n",
    "    tf.keras.layers.BatchNormalization(),\n",
    "    tf.keras.layers.Dense(100, activation=\"relu\",\n",
    "                         kernel_initializer=\"he_normal\"),\n",
    "    tf.keras.layers.BatchNormalization(),\n",
    "    tf.keras.layers.Dense(10, activation=\"softmax\")\n",
    "])"
   ]
  },
  {
   "cell_type": "code",
   "execution_count": 16,
   "id": "df1191fd-6306-431e-885b-8db68091844e",
   "metadata": {},
   "outputs": [
    {
     "name": "stdout",
     "output_type": "stream",
     "text": [
      "Model: \"sequential\"\n",
      "_________________________________________________________________\n",
      " Layer (type)                Output Shape              Param #   \n",
      "=================================================================\n",
      " flatten (Flatten)           (None, 784)               0         \n",
      "                                                                 \n",
      " batch_normalization (Batch  (None, 784)               3136      \n",
      " Normalization)                                                  \n",
      "                                                                 \n",
      " dense (Dense)               (None, 300)               235500    \n",
      "                                                                 \n",
      " batch_normalization_1 (Bat  (None, 300)               1200      \n",
      " chNormalization)                                                \n",
      "                                                                 \n",
      " dense_1 (Dense)             (None, 100)               30100     \n",
      "                                                                 \n",
      " batch_normalization_2 (Bat  (None, 100)               400       \n",
      " chNormalization)                                                \n",
      "                                                                 \n",
      " dense_2 (Dense)             (None, 10)                1010      \n",
      "                                                                 \n",
      "=================================================================\n",
      "Total params: 271346 (1.04 MB)\n",
      "Trainable params: 268978 (1.03 MB)\n",
      "Non-trainable params: 2368 (9.25 KB)\n",
      "_________________________________________________________________\n"
     ]
    }
   ],
   "source": [
    "model.summary()"
   ]
  },
  {
   "cell_type": "code",
   "execution_count": 17,
   "id": "9e99af85-0e5b-42ab-92c1-66c7705207a1",
   "metadata": {},
   "outputs": [
    {
     "name": "stdout",
     "output_type": "stream",
     "text": [
      "Epoch 1/2\n"
     ]
    },
    {
     "name": "stderr",
     "output_type": "stream",
     "text": [
      "2024-09-04 14:04:57.754923: W external/local_tsl/tsl/framework/cpu_allocator_impl.cc:83] Allocation of 172480000 exceeds 10% of free system memory.\n"
     ]
    },
    {
     "name": "stdout",
     "output_type": "stream",
     "text": [
      "1719/1719 [==============================] - 8s 4ms/step - loss: 0.5489 - accuracy: 0.8102 - val_loss: 0.3990 - val_accuracy: 0.8540\n",
      "Epoch 2/2\n",
      "1719/1719 [==============================] - 7s 4ms/step - loss: 0.4029 - accuracy: 0.8569 - val_loss: 0.3639 - val_accuracy: 0.8646\n"
     ]
    },
    {
     "data": {
      "text/plain": [
       "<keras.src.callbacks.History at 0x72e060358c10>"
      ]
     },
     "execution_count": 17,
     "metadata": {},
     "output_type": "execute_result"
    }
   ],
   "source": [
    "model.compile(loss=\"sparse_categorical_crossentropy\", optimizer=\"sgd\",\n",
    "             metrics=[\"accuracy\"])\n",
    "model.fit(X_train, y_train, epochs=2, validation_data=(X_valid, y_valid))"
   ]
  },
  {
   "cell_type": "code",
   "execution_count": 18,
   "id": "c5dbc383-993c-4c20-a585-1ec1c31d6ef4",
   "metadata": {},
   "outputs": [],
   "source": [
    "tf.keras.backend.clear_session()\n",
    "tf.random.set_seed(42)"
   ]
  },
  {
   "cell_type": "code",
   "execution_count": 19,
   "id": "566aaefe-b443-48ca-a5ac-0309260cf10b",
   "metadata": {},
   "outputs": [],
   "source": [
    "# BN before the activation function (sometimes works better)\n",
    "\n",
    "model = tf.keras.Sequential([\n",
    "    tf.keras.layers.Flatten(input_shape=[28, 28]),\n",
    "    tf.keras.layers.Dense(300, kernel_initializer=\"he_normal\", use_bias=False),\n",
    "    tf.keras.layers.BatchNormalization(),\n",
    "    tf.keras.layers.Activation(\"relu\"),\n",
    "    tf.keras.layers.Dense(300, kernel_initializer=\"he_normal\", use_bias=False), # There is no need to use bias because BN does not need them\n",
    "    tf.keras.layers.BatchNormalization(),\n",
    "    tf.keras.layers.Activation(\"relu\"),\n",
    "    tf.keras.layers.Dense(10, activation=\"softmax\")\n",
    "])"
   ]
  },
  {
   "cell_type": "code",
   "execution_count": 20,
   "id": "d25358fc-5632-4cda-8689-0d18f8f76a25",
   "metadata": {},
   "outputs": [
    {
     "name": "stdout",
     "output_type": "stream",
     "text": [
      "Epoch 1/2\n"
     ]
    },
    {
     "name": "stderr",
     "output_type": "stream",
     "text": [
      "2024-09-04 14:05:13.830959: W external/local_tsl/tsl/framework/cpu_allocator_impl.cc:83] Allocation of 172480000 exceeds 10% of free system memory.\n"
     ]
    },
    {
     "name": "stdout",
     "output_type": "stream",
     "text": [
      "1719/1719 [==============================] - 10s 5ms/step - loss: 0.5644 - accuracy: 0.8059 - val_loss: 0.4189 - val_accuracy: 0.8514\n",
      "Epoch 2/2\n",
      "1719/1719 [==============================] - 7s 4ms/step - loss: 0.4056 - accuracy: 0.8580 - val_loss: 0.3678 - val_accuracy: 0.8704\n"
     ]
    },
    {
     "data": {
      "text/plain": [
       "<keras.src.callbacks.History at 0x72e0617cf310>"
      ]
     },
     "execution_count": 20,
     "metadata": {},
     "output_type": "execute_result"
    }
   ],
   "source": [
    "model.compile(loss=\"sparse_categorical_crossentropy\", optimizer=\"sgd\",\n",
    "             metrics=\"accuracy\")\n",
    "model.fit(X_train, y_train, epochs=2, validation_data=(X_valid, y_valid))"
   ]
  },
  {
   "cell_type": "markdown",
   "id": "64ce43b3-e281-42cb-925a-8bfe9762089b",
   "metadata": {},
   "source": [
    "### Gradient Clipping"
   ]
  },
  {
   "cell_type": "code",
   "execution_count": 21,
   "id": "a45055a0-325b-494d-b2d4-0f30a4e97ce7",
   "metadata": {},
   "outputs": [],
   "source": [
    "optimizer = tf.keras.optimizers.SGD(clipvalue=1.0)\n",
    "model.compile(loss=\"sparse_categorical_crossentropy\", optimizer=optimizer)"
   ]
  },
  {
   "cell_type": "code",
   "execution_count": 22,
   "id": "b6ad2f74-1bc4-4fb8-b092-80cdea7f40a3",
   "metadata": {},
   "outputs": [],
   "source": [
    "optimizer = tf.keras.optimizers.SGD(clipnorm=1.0)\n",
    "model.compile(loss=\"sparse_categorical_crossentropy\", optimizer=optimizer)"
   ]
  },
  {
   "cell_type": "markdown",
   "id": "c364126e-6c91-4a52-a1b7-c57440f7c6e3",
   "metadata": {},
   "source": [
    "# Reusing Pretrained Layers"
   ]
  },
  {
   "cell_type": "markdown",
   "id": "6a70ef23-ba01-4dde-a2a8-eb3c76e28ef6",
   "metadata": {},
   "source": [
    "The book says that in the following situation is not good reuse the hidden layers of the trained model and the results are manipulated.\n",
    "But I will do it anyway because later in the book it will show another example that might be useful."
   ]
  },
  {
   "cell_type": "code",
   "execution_count": 23,
   "id": "2cdd86ea-c567-4dfa-9aa6-b84e5ecd4018",
   "metadata": {},
   "outputs": [],
   "source": [
    "import numpy as np\n",
    "\n",
    "pos_class_id = class_names.index(\"Pullover\")\n",
    "neg_class_id = class_names.index(\"T-shirt/top\")\n",
    "\n",
    "def split_dataset(X, y):\n",
    "    y_for_B = (y == pos_class_id) | (y == neg_class_id)\n",
    "    y_A = y[~y_for_B]\n",
    "    y_B = (y[y_for_B] == pos_class_id).astype(np.float32)\n",
    "    old_class_ids = list(set(range(10)) - set([neg_class_id, pos_class_id]))\n",
    "    for old_class_id, new_class_id in zip(old_class_ids, range(8)):\n",
    "        y_A[y_A == old_class_id] = new_class_id  # reorder class ids for A\n",
    "    return ((X[~y_for_B], y_A), (X[y_for_B], y_B))\n",
    "\n",
    "(X_train_A, y_train_A), (X_train_B, y_train_B) = split_dataset(X_train, y_train)\n",
    "(X_valid_A, y_valid_A), (X_valid_B, y_valid_B) = split_dataset(X_valid, y_valid)\n",
    "(X_test_A, y_test_A), (X_test_B, y_test_B) = split_dataset(X_test, y_test)\n",
    "X_train_B = X_train_B[:200]\n",
    "y_train_B = y_train_B[:200]"
   ]
  },
  {
   "cell_type": "code",
   "execution_count": 24,
   "id": "904db279-aa65-4e44-b96a-f061a26eb7f5",
   "metadata": {},
   "outputs": [
    {
     "name": "stdout",
     "output_type": "stream",
     "text": [
      "Epoch 1/20\n"
     ]
    },
    {
     "name": "stderr",
     "output_type": "stream",
     "text": [
      "2024-09-04 14:05:32.734657: W external/local_tsl/tsl/framework/cpu_allocator_impl.cc:83] Allocation of 138018496 exceeds 10% of free system memory.\n"
     ]
    },
    {
     "name": "stdout",
     "output_type": "stream",
     "text": [
      "1376/1376 [==============================] - 7s 4ms/step - loss: 0.5800 - val_loss: 0.2731\n",
      "Epoch 2/20\n",
      "1376/1376 [==============================] - 6s 5ms/step - loss: 0.2719 - val_loss: 0.2418\n",
      "Epoch 3/20\n",
      "1376/1376 [==============================] - 5s 4ms/step - loss: 0.2406 - val_loss: 0.2303\n",
      "Epoch 4/20\n",
      "1376/1376 [==============================] - 5s 4ms/step - loss: 0.2178 - val_loss: 0.2193\n",
      "Epoch 5/20\n",
      "1376/1376 [==============================] - 5s 4ms/step - loss: 0.2038 - val_loss: 0.2142\n",
      "Epoch 6/20\n",
      "1376/1376 [==============================] - 5s 4ms/step - loss: 0.1935 - val_loss: 0.2092\n",
      "Epoch 7/20\n",
      "1376/1376 [==============================] - 5s 4ms/step - loss: 0.1827 - val_loss: 0.2038\n",
      "Epoch 8/20\n",
      "1376/1376 [==============================] - 5s 4ms/step - loss: 0.1739 - val_loss: 0.2095\n",
      "Epoch 9/20\n",
      "1376/1376 [==============================] - 5s 4ms/step - loss: 0.1679 - val_loss: 0.2022\n",
      "Epoch 10/20\n",
      "1376/1376 [==============================] - 5s 4ms/step - loss: 0.1596 - val_loss: 0.1973\n",
      "Epoch 11/20\n",
      "1376/1376 [==============================] - 5s 4ms/step - loss: 0.1552 - val_loss: 0.1958\n",
      "Epoch 12/20\n",
      "1376/1376 [==============================] - 5s 4ms/step - loss: 0.1479 - val_loss: 0.1973\n",
      "Epoch 13/20\n",
      "1376/1376 [==============================] - 5s 4ms/step - loss: 0.1418 - val_loss: 0.1956\n",
      "Epoch 14/20\n",
      "1376/1376 [==============================] - 5s 4ms/step - loss: 0.1367 - val_loss: 0.1919\n",
      "Epoch 15/20\n",
      "1376/1376 [==============================] - 5s 4ms/step - loss: 0.1331 - val_loss: 0.1953\n",
      "Epoch 16/20\n",
      "1376/1376 [==============================] - 5s 4ms/step - loss: 0.1279 - val_loss: 0.1870\n",
      "Epoch 17/20\n",
      "1376/1376 [==============================] - 5s 4ms/step - loss: 0.1249 - val_loss: 0.1975\n",
      "Epoch 18/20\n",
      "1376/1376 [==============================] - 5s 4ms/step - loss: 0.1206 - val_loss: 0.1935\n",
      "Epoch 19/20\n",
      "1376/1376 [==============================] - 5s 4ms/step - loss: 0.1153 - val_loss: 0.1878\n",
      "Epoch 20/20\n",
      "1376/1376 [==============================] - 5s 4ms/step - loss: 0.1135 - val_loss: 0.2027\n",
      "INFO:tensorflow:Assets written to: my_model_A/assets\n"
     ]
    },
    {
     "name": "stderr",
     "output_type": "stream",
     "text": [
      "INFO:tensorflow:Assets written to: my_model_A/assets\n"
     ]
    }
   ],
   "source": [
    "tf.random.set_seed(42)\n",
    "\n",
    "model_A = tf.keras.Sequential([\n",
    "    tf.keras.layers.Flatten(input_shape=[28, 28]),\n",
    "    tf.keras.layers.Dense(100, activation=\"relu\",\n",
    "                         kernel_initializer=\"he_normal\"),\n",
    "    tf.keras.layers.Dense(100, activation=\"relu\",\n",
    "                         kernel_initializer=\"he_normal\"),\n",
    "    tf.keras.layers.Dense(100, activation=\"relu\",\n",
    "                         kernel_initializer=\"he_normal\"),\n",
    "    tf.keras.layers.Dense(8, activation=\"softmax\")\n",
    "])\n",
    "\n",
    "model_A.compile(loss=\"sparse_categorical_crossentropy\",\n",
    "               optimizer=tf.keras.optimizers.SGD(learning_rate=0.001),\n",
    "               metrics=[\"accuracy\"])\n",
    "history = model.fit(X_train_A, y_train_A, epochs=20,\n",
    "                   validation_data=(X_valid_A, y_valid_A))\n",
    "model_A.save(\"my_model_A\")"
   ]
  },
  {
   "cell_type": "code",
   "execution_count": 25,
   "id": "88663b69-8a41-46b3-a959-e728c55f0446",
   "metadata": {},
   "outputs": [
    {
     "name": "stdout",
     "output_type": "stream",
     "text": [
      "Epoch 1/20\n",
      "7/7 [==============================] - 1s 40ms/step - loss: 0.7095 - accuracy: 0.4450 - val_loss: 0.6744 - val_accuracy: 0.4866\n",
      "Epoch 2/20\n",
      "7/7 [==============================] - 0s 13ms/step - loss: 0.6832 - accuracy: 0.4500 - val_loss: 0.6527 - val_accuracy: 0.4906\n",
      "Epoch 3/20\n",
      "7/7 [==============================] - 0s 13ms/step - loss: 0.6589 - accuracy: 0.4600 - val_loss: 0.6324 - val_accuracy: 0.5509\n",
      "Epoch 4/20\n",
      "7/7 [==============================] - 0s 13ms/step - loss: 0.6351 - accuracy: 0.5350 - val_loss: 0.6167 - val_accuracy: 0.6647\n",
      "Epoch 5/20\n",
      "7/7 [==============================] - 0s 13ms/step - loss: 0.6172 - accuracy: 0.6700 - val_loss: 0.6020 - val_accuracy: 0.7567\n",
      "Epoch 6/20\n",
      "7/7 [==============================] - 0s 13ms/step - loss: 0.5999 - accuracy: 0.7850 - val_loss: 0.5892 - val_accuracy: 0.8170\n",
      "Epoch 7/20\n",
      "7/7 [==============================] - 0s 13ms/step - loss: 0.5846 - accuracy: 0.8400 - val_loss: 0.5776 - val_accuracy: 0.8368\n",
      "Epoch 8/20\n",
      "7/7 [==============================] - 0s 13ms/step - loss: 0.5720 - accuracy: 0.8550 - val_loss: 0.5668 - val_accuracy: 0.8625\n",
      "Epoch 9/20\n",
      "7/7 [==============================] - 0s 13ms/step - loss: 0.5591 - accuracy: 0.8800 - val_loss: 0.5563 - val_accuracy: 0.8773\n",
      "Epoch 10/20\n",
      "7/7 [==============================] - 0s 13ms/step - loss: 0.5472 - accuracy: 0.9050 - val_loss: 0.5462 - val_accuracy: 0.8843\n",
      "Epoch 11/20\n",
      "7/7 [==============================] - 0s 13ms/step - loss: 0.5356 - accuracy: 0.9250 - val_loss: 0.5369 - val_accuracy: 0.8912\n",
      "Epoch 12/20\n",
      "7/7 [==============================] - 0s 13ms/step - loss: 0.5246 - accuracy: 0.9350 - val_loss: 0.5277 - val_accuracy: 0.9021\n",
      "Epoch 13/20\n",
      "7/7 [==============================] - 0s 13ms/step - loss: 0.5143 - accuracy: 0.9350 - val_loss: 0.5195 - val_accuracy: 0.9070\n",
      "Epoch 14/20\n",
      "7/7 [==============================] - 0s 13ms/step - loss: 0.5048 - accuracy: 0.9400 - val_loss: 0.5112 - val_accuracy: 0.9139\n",
      "Epoch 15/20\n",
      "7/7 [==============================] - 0s 13ms/step - loss: 0.4956 - accuracy: 0.9600 - val_loss: 0.5031 - val_accuracy: 0.9169\n",
      "Epoch 16/20\n",
      "7/7 [==============================] - 0s 13ms/step - loss: 0.4867 - accuracy: 0.9550 - val_loss: 0.4953 - val_accuracy: 0.9159\n",
      "Epoch 17/20\n",
      "7/7 [==============================] - 0s 13ms/step - loss: 0.4783 - accuracy: 0.9600 - val_loss: 0.4877 - val_accuracy: 0.9189\n",
      "Epoch 18/20\n",
      "7/7 [==============================] - 0s 13ms/step - loss: 0.4701 - accuracy: 0.9600 - val_loss: 0.4799 - val_accuracy: 0.9189\n",
      "Epoch 19/20\n",
      "7/7 [==============================] - 0s 13ms/step - loss: 0.4617 - accuracy: 0.9550 - val_loss: 0.4726 - val_accuracy: 0.9199\n",
      "Epoch 20/20\n",
      "7/7 [==============================] - 0s 13ms/step - loss: 0.4540 - accuracy: 0.9600 - val_loss: 0.4656 - val_accuracy: 0.9248\n",
      "63/63 [==============================] - 0s 2ms/step - loss: 0.4729 - accuracy: 0.9080\n"
     ]
    },
    {
     "data": {
      "text/plain": [
       "[0.47289589047431946, 0.9079999923706055]"
      ]
     },
     "execution_count": 25,
     "metadata": {},
     "output_type": "execute_result"
    }
   ],
   "source": [
    "tf.random.set_seed(42)\n",
    "model_B = tf.keras.Sequential([\n",
    "    tf.keras.layers.Flatten(input_shape=[28, 28]),\n",
    "    tf.keras.layers.Dense(100, activation=\"relu\",\n",
    "                         kernel_initializer=\"he_normal\"),\n",
    "    tf.keras.layers.Dense(100, activation=\"relu\",\n",
    "                         kernel_initializer=\"he_normal\"),\n",
    "    tf.keras.layers.Dense(100, activation=\"relu\",\n",
    "                         kernel_initializer=\"he_normal\"),\n",
    "    tf.keras.layers.Dense(1, activation=\"sigmoid\")\n",
    "])\n",
    "\n",
    "model_B.compile(loss=\"binary_crossentropy\",\n",
    "               optimizer=tf.keras.optimizers.SGD(learning_rate=0.001),\n",
    "               metrics=[\"accuracy\"])\n",
    "\n",
    "history = model_B.fit(X_train_B, y_train_B, epochs=20,\n",
    "                     validation_data=(X_valid_B, y_valid_B))\n",
    "model_B.evaluate(X_test_B, y_test_B)"
   ]
  },
  {
   "cell_type": "code",
   "execution_count": 26,
   "id": "27e3ca74-b2ee-4715-a45d-88f5c747898b",
   "metadata": {},
   "outputs": [],
   "source": [
    "# reusing a pretrained model_A adding the last sigmoid layer\n",
    "model_A = tf.keras.models.load_model(\"my_model_A\")\n",
    "model_B_on_A = tf.keras.Sequential(model_A.layers[:-1])\n",
    "model_B_on_A.add(tf.keras.layers.Dense(1, activation=\"sigmoid\"))\n",
    "\n",
    "tf.random.set_seed(42)\n",
    "\n",
    "model_A_clone = tf.keras.models.clone_model(model_A)\n",
    "model_A_clone.set_weights(model_A.get_weights())\n",
    "\n",
    "model_B_on_A = tf.keras.Sequential(model_A_clone.layers[:-1])\n",
    "model_B_on_A.add(tf.keras.layers.Dense(1, activation=\"sigmoid\"))\n",
    "\n",
    "for layer in model_B_on_A.layers[:-1]:\n",
    "    layer.trainable = False\n",
    "\n",
    "optimizer = tf.keras.optimizers.SGD(learning_rate=0.001)\n",
    "model_B_on_A.compile(loss=\"binary_crossentropy\", optimizer=optimizer,\n",
    "                     metrics=[\"accuracy\"])\n"
   ]
  },
  {
   "cell_type": "code",
   "execution_count": 27,
   "id": "633f13d8-f3a6-44a0-84f6-c52cac907fee",
   "metadata": {},
   "outputs": [
    {
     "name": "stdout",
     "output_type": "stream",
     "text": [
      "Epoch 1/4\n",
      "7/7 [==============================] - 1s 38ms/step - loss: 0.7500 - accuracy: 0.4450 - val_loss: 0.7430 - val_accuracy: 0.4837\n",
      "Epoch 2/4\n",
      "7/7 [==============================] - 0s 13ms/step - loss: 0.7448 - accuracy: 0.4400 - val_loss: 0.7386 - val_accuracy: 0.4827\n",
      "Epoch 3/4\n",
      "7/7 [==============================] - 0s 13ms/step - loss: 0.7394 - accuracy: 0.4450 - val_loss: 0.7337 - val_accuracy: 0.4758\n",
      "Epoch 4/4\n",
      "7/7 [==============================] - 0s 13ms/step - loss: 0.7332 - accuracy: 0.4550 - val_loss: 0.7302 - val_accuracy: 0.4758\n",
      "Epoch 1/16\n",
      "7/7 [==============================] - 1s 37ms/step - loss: 0.7212 - accuracy: 0.4600 - val_loss: 0.7113 - val_accuracy: 0.4857\n",
      "Epoch 2/16\n",
      "7/7 [==============================] - 0s 13ms/step - loss: 0.7006 - accuracy: 0.4800 - val_loss: 0.6945 - val_accuracy: 0.5232\n",
      "Epoch 3/16\n",
      "7/7 [==============================] - 0s 13ms/step - loss: 0.6817 - accuracy: 0.5750 - val_loss: 0.6786 - val_accuracy: 0.6073\n",
      "Epoch 4/16\n",
      "7/7 [==============================] - 0s 13ms/step - loss: 0.6622 - accuracy: 0.6950 - val_loss: 0.6659 - val_accuracy: 0.6756\n",
      "Epoch 5/16\n",
      "7/7 [==============================] - 0s 13ms/step - loss: 0.6476 - accuracy: 0.7600 - val_loss: 0.6537 - val_accuracy: 0.7488\n",
      "Epoch 6/16\n",
      "7/7 [==============================] - 0s 13ms/step - loss: 0.6338 - accuracy: 0.8250 - val_loss: 0.6427 - val_accuracy: 0.7814\n",
      "Epoch 7/16\n",
      "7/7 [==============================] - 0s 13ms/step - loss: 0.6209 - accuracy: 0.8500 - val_loss: 0.6319 - val_accuracy: 0.8190\n",
      "Epoch 8/16\n",
      "7/7 [==============================] - 0s 13ms/step - loss: 0.6099 - accuracy: 0.8800 - val_loss: 0.6217 - val_accuracy: 0.8437\n",
      "Epoch 9/16\n",
      "7/7 [==============================] - 0s 12ms/step - loss: 0.5980 - accuracy: 0.8900 - val_loss: 0.6121 - val_accuracy: 0.8546\n",
      "Epoch 10/16\n",
      "7/7 [==============================] - 0s 13ms/step - loss: 0.5872 - accuracy: 0.9100 - val_loss: 0.6025 - val_accuracy: 0.8694\n",
      "Epoch 11/16\n",
      "7/7 [==============================] - 0s 13ms/step - loss: 0.5762 - accuracy: 0.9000 - val_loss: 0.5935 - val_accuracy: 0.8754\n",
      "Epoch 12/16\n",
      "7/7 [==============================] - 0s 13ms/step - loss: 0.5659 - accuracy: 0.9100 - val_loss: 0.5843 - val_accuracy: 0.8803\n",
      "Epoch 13/16\n",
      "7/7 [==============================] - 0s 13ms/step - loss: 0.5556 - accuracy: 0.9350 - val_loss: 0.5760 - val_accuracy: 0.8843\n",
      "Epoch 14/16\n",
      "7/7 [==============================] - 0s 13ms/step - loss: 0.5463 - accuracy: 0.9350 - val_loss: 0.5676 - val_accuracy: 0.8863\n",
      "Epoch 15/16\n",
      "7/7 [==============================] - 0s 14ms/step - loss: 0.5369 - accuracy: 0.9300 - val_loss: 0.5590 - val_accuracy: 0.8981\n",
      "Epoch 16/16\n",
      "7/7 [==============================] - 0s 14ms/step - loss: 0.5276 - accuracy: 0.9450 - val_loss: 0.5505 - val_accuracy: 0.9021\n"
     ]
    }
   ],
   "source": [
    "history = model_B_on_A.fit(X_train_B, y_train_B, epochs=4,\n",
    "                           validation_data=(X_valid_B, y_valid_B))\n",
    "\n",
    "for layer in model_B_on_A.layers[:-1]:\n",
    "    layer.trainable = True\n",
    "\n",
    "optimizer = tf.keras.optimizers.SGD(learning_rate=0.001)\n",
    "model_B_on_A.compile(loss=\"binary_crossentropy\", optimizer=optimizer,\n",
    "                     metrics=[\"accuracy\"])\n",
    "history = model_B_on_A.fit(X_train_B, y_train_B, epochs=16,\n",
    "                           validation_data=(X_valid_B, y_valid_B))"
   ]
  },
  {
   "cell_type": "code",
   "execution_count": 28,
   "id": "0a123d25-f667-44ba-8408-70de7344ad6e",
   "metadata": {},
   "outputs": [
    {
     "name": "stdout",
     "output_type": "stream",
     "text": [
      "63/63 [==============================] - 0s 2ms/step - loss: 0.5530 - accuracy: 0.8900\n"
     ]
    },
    {
     "data": {
      "text/plain": [
       "[0.5529834032058716, 0.8899999856948853]"
      ]
     },
     "execution_count": 28,
     "metadata": {},
     "output_type": "execute_result"
    }
   ],
   "source": [
    "model_B_on_A.evaluate(X_test_B, y_test_B)"
   ]
  },
  {
   "cell_type": "markdown",
   "id": "cf1baa5d-35c9-4966-9837-d1d415f39a54",
   "metadata": {},
   "source": [
    "The results of the book is better in the \"model_B_on_A\" but they did it in a way to  get a better result.\n",
    "So this is not unusual to get a worst result knowing that this is not a suitable way to use pretreined layers"
   ]
  },
  {
   "cell_type": "markdown",
   "id": "5f516092-94bf-481b-ab38-aa90840ab7fd",
   "metadata": {},
   "source": [
    "# Faster Optimizers"
   ]
  },
  {
   "cell_type": "code",
   "execution_count": 29,
   "id": "fdad7b9e-3c32-4099-938f-0dc74200113c",
   "metadata": {},
   "outputs": [],
   "source": [
    "def build_model(seed=42):\n",
    "    tf.random.set_seed(seed)\n",
    "    return tf.keras.Sequential([\n",
    "        tf.keras.layers.Flatten(input_shape=[28, 28]),\n",
    "        tf.keras.layers.Dense(100, activation=\"relu\",\n",
    "                             kernel_initializer=\"he_normal\"),\n",
    "        tf.keras.layers.Dense(100, activation=\"relu\",\n",
    "                             kernel_initializer=\"he_normal\"),\n",
    "        tf.keras.layers.Dense(100, activation=\"relu\",\n",
    "                             kernel_initializer=\"he_normal\"),\n",
    "        tf.keras.layers.Dense(10, activation=\"softmax\")\n",
    "    ])\n",
    "\n",
    "def build_and_train_model(optimizer):\n",
    "    model = build_model()\n",
    "    model.compile(loss=\"sparse_categorical_crossentropy\", optimizer=optimizer,\n",
    "                 metrics=[\"accuracy\"])\n",
    "    return model.fit(X_train, y_train, epochs=10,\n",
    "                    validation_data=(X_valid,  y_valid))"
   ]
  },
  {
   "cell_type": "code",
   "execution_count": 30,
   "id": "2be23a88-0e3a-445b-833d-80e125a2baf6",
   "metadata": {},
   "outputs": [],
   "source": [
    "optimizer=tf.keras.optimizers.SGD(learning_rate=0.001, momentum=0.9)"
   ]
  },
  {
   "cell_type": "code",
   "execution_count": 31,
   "id": "eb7473e3-6d90-40c7-84dd-a833f1ab1046",
   "metadata": {},
   "outputs": [
    {
     "name": "stdout",
     "output_type": "stream",
     "text": [
      "Epoch 1/10\n"
     ]
    },
    {
     "name": "stderr",
     "output_type": "stream",
     "text": [
      "2024-09-04 14:07:27.030488: W external/local_tsl/tsl/framework/cpu_allocator_impl.cc:83] Allocation of 172480000 exceeds 10% of free system memory.\n"
     ]
    },
    {
     "name": "stdout",
     "output_type": "stream",
     "text": [
      "1719/1719 [==============================] - 5s 2ms/step - loss: 0.6838 - accuracy: 0.7638 - val_loss: 0.4954 - val_accuracy: 0.8204\n",
      "Epoch 2/10\n",
      "1719/1719 [==============================] - 4s 2ms/step - loss: 0.4619 - accuracy: 0.8366 - val_loss: 0.4429 - val_accuracy: 0.8426\n",
      "Epoch 3/10\n",
      "1719/1719 [==============================] - 4s 2ms/step - loss: 0.4181 - accuracy: 0.8503 - val_loss: 0.4068 - val_accuracy: 0.8596\n",
      "Epoch 4/10\n",
      "1719/1719 [==============================] - 4s 2ms/step - loss: 0.3919 - accuracy: 0.8610 - val_loss: 0.3868 - val_accuracy: 0.8618\n",
      "Epoch 5/10\n",
      "1719/1719 [==============================] - 4s 2ms/step - loss: 0.3706 - accuracy: 0.8666 - val_loss: 0.3698 - val_accuracy: 0.8644\n",
      "Epoch 6/10\n",
      "1719/1719 [==============================] - 4s 2ms/step - loss: 0.3576 - accuracy: 0.8715 - val_loss: 0.3643 - val_accuracy: 0.8686\n",
      "Epoch 7/10\n",
      "1719/1719 [==============================] - 4s 2ms/step - loss: 0.3418 - accuracy: 0.8766 - val_loss: 0.3709 - val_accuracy: 0.8658\n",
      "Epoch 8/10\n",
      "1719/1719 [==============================] - 4s 2ms/step - loss: 0.3326 - accuracy: 0.8789 - val_loss: 0.3522 - val_accuracy: 0.8714\n",
      "Epoch 9/10\n",
      "1719/1719 [==============================] - 4s 2ms/step - loss: 0.3235 - accuracy: 0.8825 - val_loss: 0.3741 - val_accuracy: 0.8590\n",
      "Epoch 10/10\n",
      "1719/1719 [==============================] - 4s 2ms/step - loss: 0.3137 - accuracy: 0.8854 - val_loss: 0.3758 - val_accuracy: 0.8624\n"
     ]
    }
   ],
   "source": [
    "history_sgd = build_and_train_model(optimizer)"
   ]
  },
  {
   "cell_type": "markdown",
   "id": "637824bc-d165-4794-9394-098f5f97c0f0",
   "metadata": {},
   "source": [
    "### Nesterov Accelerated Gradient"
   ]
  },
  {
   "cell_type": "code",
   "execution_count": 32,
   "id": "2809d6f0-d4bd-4d2f-8c4a-27d3fe9e2851",
   "metadata": {},
   "outputs": [],
   "source": [
    "optimizer = tf.keras.optimizers.SGD(learning_rate=0.001, momentum=0.9,\n",
    "                                   nesterov=True)"
   ]
  },
  {
   "cell_type": "code",
   "execution_count": 33,
   "id": "5b87d8cf-76f8-40c4-97f3-1e6ee6fd6f1c",
   "metadata": {},
   "outputs": [
    {
     "name": "stdout",
     "output_type": "stream",
     "text": [
      "Epoch 1/10\n",
      "1719/1719 [==============================] - 5s 3ms/step - loss: 0.6884 - accuracy: 0.7675 - val_loss: 0.4901 - val_accuracy: 0.8250\n",
      "Epoch 2/10\n",
      "1719/1719 [==============================] - 4s 3ms/step - loss: 0.4545 - accuracy: 0.8407 - val_loss: 0.4329 - val_accuracy: 0.8416\n",
      "Epoch 3/10\n",
      "1719/1719 [==============================] - 4s 2ms/step - loss: 0.4121 - accuracy: 0.8554 - val_loss: 0.3973 - val_accuracy: 0.8572\n",
      "Epoch 4/10\n",
      "1719/1719 [==============================] - 4s 2ms/step - loss: 0.3869 - accuracy: 0.8649 - val_loss: 0.3763 - val_accuracy: 0.8666\n",
      "Epoch 5/10\n",
      "1719/1719 [==============================] - 4s 2ms/step - loss: 0.3666 - accuracy: 0.8699 - val_loss: 0.3650 - val_accuracy: 0.8688\n",
      "Epoch 6/10\n",
      "1719/1719 [==============================] - 4s 2ms/step - loss: 0.3522 - accuracy: 0.8741 - val_loss: 0.3716 - val_accuracy: 0.8692\n",
      "Epoch 7/10\n",
      "1719/1719 [==============================] - 4s 2ms/step - loss: 0.3375 - accuracy: 0.8784 - val_loss: 0.3672 - val_accuracy: 0.8688\n",
      "Epoch 8/10\n",
      "1719/1719 [==============================] - 4s 2ms/step - loss: 0.3282 - accuracy: 0.8818 - val_loss: 0.3633 - val_accuracy: 0.8678\n",
      "Epoch 9/10\n",
      "1719/1719 [==============================] - 4s 2ms/step - loss: 0.3189 - accuracy: 0.8857 - val_loss: 0.3469 - val_accuracy: 0.8738\n",
      "Epoch 10/10\n",
      "1719/1719 [==============================] - 4s 3ms/step - loss: 0.3089 - accuracy: 0.8891 - val_loss: 0.3654 - val_accuracy: 0.8686\n"
     ]
    }
   ],
   "source": [
    "history_nestorov = build_and_train_model(optimizer)"
   ]
  },
  {
   "cell_type": "markdown",
   "id": "7e968618-33ab-47d3-b47d-23f32e24f6f0",
   "metadata": {},
   "source": [
    "### AdaGrad"
   ]
  },
  {
   "cell_type": "code",
   "execution_count": 34,
   "id": "f6886808-d521-4e71-917f-d3bd48b84ea8",
   "metadata": {},
   "outputs": [
    {
     "name": "stdout",
     "output_type": "stream",
     "text": [
      "Epoch 1/10\n",
      "1719/1719 [==============================] - 5s 2ms/step - loss: 0.9321 - accuracy: 0.7009 - val_loss: 0.6631 - val_accuracy: 0.7832\n",
      "Epoch 2/10\n",
      "1719/1719 [==============================] - 4s 2ms/step - loss: 0.6199 - accuracy: 0.7930 - val_loss: 0.5714 - val_accuracy: 0.8044\n",
      "Epoch 3/10\n",
      "1719/1719 [==============================] - 4s 2ms/step - loss: 0.5570 - accuracy: 0.8112 - val_loss: 0.5301 - val_accuracy: 0.8156\n",
      "Epoch 4/10\n",
      "1719/1719 [==============================] - 4s 2ms/step - loss: 0.5241 - accuracy: 0.8215 - val_loss: 0.5077 - val_accuracy: 0.8232\n",
      "Epoch 5/10\n",
      "1719/1719 [==============================] - 4s 2ms/step - loss: 0.5027 - accuracy: 0.8275 - val_loss: 0.4902 - val_accuracy: 0.8272\n",
      "Epoch 6/10\n",
      "1719/1719 [==============================] - 4s 2ms/step - loss: 0.4870 - accuracy: 0.8319 - val_loss: 0.4792 - val_accuracy: 0.8322\n",
      "Epoch 7/10\n",
      "1719/1719 [==============================] - 4s 2ms/step - loss: 0.4750 - accuracy: 0.8368 - val_loss: 0.4681 - val_accuracy: 0.8346\n",
      "Epoch 8/10\n",
      "1719/1719 [==============================] - 4s 2ms/step - loss: 0.4655 - accuracy: 0.8389 - val_loss: 0.4600 - val_accuracy: 0.8374\n",
      "Epoch 9/10\n",
      "1719/1719 [==============================] - 4s 2ms/step - loss: 0.4574 - accuracy: 0.8427 - val_loss: 0.4542 - val_accuracy: 0.8386\n",
      "Epoch 10/10\n",
      "1719/1719 [==============================] - 4s 2ms/step - loss: 0.4501 - accuracy: 0.8449 - val_loss: 0.4466 - val_accuracy: 0.8414\n"
     ]
    }
   ],
   "source": [
    "optimizer = tf.keras.optimizers.Adagrad(learning_rate=0.001)\n",
    "history_adagrad = build_and_train_model(optimizer)"
   ]
  },
  {
   "cell_type": "markdown",
   "id": "839089f6-95f8-438f-8e2b-f7fa507092db",
   "metadata": {},
   "source": [
    "### RMSProp"
   ]
  },
  {
   "cell_type": "code",
   "execution_count": 35,
   "id": "50f5d5e4-da3a-40ed-b485-2f317e06351f",
   "metadata": {},
   "outputs": [],
   "source": [
    "optimizer = tf.keras.optimizers.RMSprop(learning_rate=0.001, rho=0.9)"
   ]
  },
  {
   "cell_type": "code",
   "execution_count": 36,
   "id": "3b86df0f-af4b-4010-8bd8-c4b9d8cac488",
   "metadata": {},
   "outputs": [
    {
     "name": "stdout",
     "output_type": "stream",
     "text": [
      "Epoch 1/10\n",
      "1719/1719 [==============================] - 5s 3ms/step - loss: 0.5128 - accuracy: 0.8154 - val_loss: 0.4392 - val_accuracy: 0.8368\n",
      "Epoch 2/10\n",
      "1719/1719 [==============================] - 5s 3ms/step - loss: 0.3920 - accuracy: 0.8585 - val_loss: 0.4615 - val_accuracy: 0.8338\n",
      "Epoch 3/10\n",
      "1719/1719 [==============================] - 5s 3ms/step - loss: 0.3661 - accuracy: 0.8697 - val_loss: 0.3902 - val_accuracy: 0.8626\n",
      "Epoch 4/10\n",
      "1719/1719 [==============================] - 4s 3ms/step - loss: 0.3597 - accuracy: 0.8747 - val_loss: 0.3965 - val_accuracy: 0.8732\n",
      "Epoch 5/10\n",
      "1719/1719 [==============================] - 4s 3ms/step - loss: 0.3526 - accuracy: 0.8771 - val_loss: 0.3873 - val_accuracy: 0.8564\n",
      "Epoch 6/10\n",
      "1719/1719 [==============================] - 4s 3ms/step - loss: 0.3506 - accuracy: 0.8773 - val_loss: 0.4189 - val_accuracy: 0.8606\n",
      "Epoch 7/10\n",
      "1719/1719 [==============================] - 5s 3ms/step - loss: 0.3534 - accuracy: 0.8776 - val_loss: 0.4040 - val_accuracy: 0.8682\n",
      "Epoch 8/10\n",
      "1719/1719 [==============================] - 4s 3ms/step - loss: 0.3464 - accuracy: 0.8819 - val_loss: 0.4903 - val_accuracy: 0.8594\n",
      "Epoch 9/10\n",
      "1719/1719 [==============================] - 4s 3ms/step - loss: 0.3457 - accuracy: 0.8821 - val_loss: 0.4216 - val_accuracy: 0.8756\n",
      "Epoch 10/10\n",
      "1719/1719 [==============================] - 4s 3ms/step - loss: 0.3403 - accuracy: 0.8857 - val_loss: 0.4526 - val_accuracy: 0.8730\n"
     ]
    }
   ],
   "source": [
    "history_rmsprop = build_and_train_model(optimizer)"
   ]
  },
  {
   "cell_type": "markdown",
   "id": "7572175a-f0de-43a1-bd63-e53b5e26b7db",
   "metadata": {},
   "source": [
    "### Adam Optimization"
   ]
  },
  {
   "cell_type": "code",
   "execution_count": 37,
   "id": "f07c7cca-3fca-43cd-827a-9f3ed7170175",
   "metadata": {},
   "outputs": [],
   "source": [
    "optimizer = tf.keras.optimizers.Adam(learning_rate=0.001, beta_1=0.9, beta_2=0.999)"
   ]
  },
  {
   "cell_type": "code",
   "execution_count": 38,
   "id": "03bbfb2d-7aed-43bd-8539-89345adadc00",
   "metadata": {},
   "outputs": [
    {
     "name": "stdout",
     "output_type": "stream",
     "text": [
      "Epoch 1/10\n",
      "1719/1719 [==============================] - 6s 3ms/step - loss: 0.5003 - accuracy: 0.8203 - val_loss: 0.4092 - val_accuracy: 0.8416\n",
      "Epoch 2/10\n",
      "1719/1719 [==============================] - 5s 3ms/step - loss: 0.3747 - accuracy: 0.8634 - val_loss: 0.4039 - val_accuracy: 0.8448\n",
      "Epoch 3/10\n",
      "1719/1719 [==============================] - 5s 3ms/step - loss: 0.3406 - accuracy: 0.8750 - val_loss: 0.3502 - val_accuracy: 0.8762\n",
      "Epoch 4/10\n",
      "1719/1719 [==============================] - 5s 3ms/step - loss: 0.3163 - accuracy: 0.8833 - val_loss: 0.3429 - val_accuracy: 0.8720\n",
      "Epoch 5/10\n",
      "1719/1719 [==============================] - 5s 3ms/step - loss: 0.2978 - accuracy: 0.8891 - val_loss: 0.3298 - val_accuracy: 0.8746\n",
      "Epoch 6/10\n",
      "1719/1719 [==============================] - 5s 3ms/step - loss: 0.2826 - accuracy: 0.8943 - val_loss: 0.3550 - val_accuracy: 0.8732\n",
      "Epoch 7/10\n",
      "1719/1719 [==============================] - 5s 3ms/step - loss: 0.2709 - accuracy: 0.8971 - val_loss: 0.3586 - val_accuracy: 0.8760\n",
      "Epoch 8/10\n",
      "1719/1719 [==============================] - 5s 3ms/step - loss: 0.2630 - accuracy: 0.9001 - val_loss: 0.3224 - val_accuracy: 0.8886\n",
      "Epoch 9/10\n",
      "1719/1719 [==============================] - 5s 3ms/step - loss: 0.2527 - accuracy: 0.9044 - val_loss: 0.3544 - val_accuracy: 0.8778\n",
      "Epoch 10/10\n",
      "1719/1719 [==============================] - 5s 3ms/step - loss: 0.2415 - accuracy: 0.9080 - val_loss: 0.3418 - val_accuracy: 0.8830\n"
     ]
    }
   ],
   "source": [
    "history_adam = build_and_train_model(optimizer)"
   ]
  },
  {
   "cell_type": "code",
   "execution_count": 39,
   "id": "e74c22ae-7b8c-4561-864b-8283a5e48590",
   "metadata": {},
   "outputs": [
    {
     "name": "stdout",
     "output_type": "stream",
     "text": [
      "Epoch 1/10\n",
      "1719/1719 [==============================] - 5s 3ms/step - loss: 0.5322 - accuracy: 0.8131 - val_loss: 0.4317 - val_accuracy: 0.8404\n",
      "Epoch 2/10\n",
      "1719/1719 [==============================] - 5s 3ms/step - loss: 0.3973 - accuracy: 0.8587 - val_loss: 0.3901 - val_accuracy: 0.8562\n",
      "Epoch 3/10\n",
      "1719/1719 [==============================] - 6s 3ms/step - loss: 0.3596 - accuracy: 0.8707 - val_loss: 0.3690 - val_accuracy: 0.8698\n",
      "Epoch 4/10\n",
      "1719/1719 [==============================] - 6s 4ms/step - loss: 0.3345 - accuracy: 0.8798 - val_loss: 0.3465 - val_accuracy: 0.8744\n",
      "Epoch 5/10\n",
      "1719/1719 [==============================] - 6s 3ms/step - loss: 0.3143 - accuracy: 0.8845 - val_loss: 0.3271 - val_accuracy: 0.8756\n",
      "Epoch 6/10\n",
      "1719/1719 [==============================] - 5s 3ms/step - loss: 0.3000 - accuracy: 0.8896 - val_loss: 0.3343 - val_accuracy: 0.8782\n",
      "Epoch 7/10\n",
      "1719/1719 [==============================] - 5s 3ms/step - loss: 0.2866 - accuracy: 0.8941 - val_loss: 0.3311 - val_accuracy: 0.8780\n",
      "Epoch 8/10\n",
      "1719/1719 [==============================] - 5s 3ms/step - loss: 0.2766 - accuracy: 0.8973 - val_loss: 0.3110 - val_accuracy: 0.8818\n",
      "Epoch 9/10\n",
      "1719/1719 [==============================] - 5s 3ms/step - loss: 0.2672 - accuracy: 0.9014 - val_loss: 0.3522 - val_accuracy: 0.8690\n",
      "Epoch 10/10\n",
      "1719/1719 [==============================] - 5s 3ms/step - loss: 0.2566 - accuracy: 0.9050 - val_loss: 0.3350 - val_accuracy: 0.8834\n"
     ]
    }
   ],
   "source": [
    "optimizer = tf.keras.optimizers.Adamax(learning_rate=0.001, beta_1=0.9,\n",
    "                                       beta_2=0.999)\n",
    "history_adamax = build_and_train_model(optimizer)"
   ]
  },
  {
   "cell_type": "markdown",
   "id": "16324033-782e-4bad-8863-e4357f950b5c",
   "metadata": {},
   "source": [
    "# Learning Rate Scheduling"
   ]
  },
  {
   "cell_type": "markdown",
   "id": "e43f3cf4-5857-423c-a111-8c2797e2fe2b",
   "metadata": {},
   "source": [
    "### Power Scheduling"
   ]
  },
  {
   "cell_type": "code",
   "execution_count": 40,
   "id": "77187686-855b-47eb-9e49-4b6ceb4cd365",
   "metadata": {},
   "outputs": [],
   "source": [
    "lr_schedule = tf.keras.optimizers.schedules.InverseTimeDecay(\n",
    "    initial_learning_rate=0.01,\n",
    "    decay_steps=10_000,\n",
    "    decay_rate=1.0,\n",
    "    staircase=False\n",
    ")\n",
    "optimizer = tf.keras.optimizers.SGD(learning_rate=lr_schedule)"
   ]
  },
  {
   "cell_type": "code",
   "execution_count": 41,
   "id": "41ded292-bc05-4b66-a1fb-255a9b6e5973",
   "metadata": {},
   "outputs": [
    {
     "name": "stdout",
     "output_type": "stream",
     "text": [
      "Epoch 1/10\n",
      "1719/1719 [==============================] - 4s 2ms/step - loss: 0.6844 - accuracy: 0.7633 - val_loss: 0.4937 - val_accuracy: 0.8272\n",
      "Epoch 2/10\n",
      "1719/1719 [==============================] - 4s 2ms/step - loss: 0.4729 - accuracy: 0.8345 - val_loss: 0.4442 - val_accuracy: 0.8374\n",
      "Epoch 3/10\n",
      "1719/1719 [==============================] - 4s 2ms/step - loss: 0.4266 - accuracy: 0.8493 - val_loss: 0.4193 - val_accuracy: 0.8520\n",
      "Epoch 4/10\n",
      "1719/1719 [==============================] - 4s 2ms/step - loss: 0.4029 - accuracy: 0.8574 - val_loss: 0.3974 - val_accuracy: 0.8596\n",
      "Epoch 5/10\n",
      "1719/1719 [==============================] - 4s 2ms/step - loss: 0.3840 - accuracy: 0.8646 - val_loss: 0.3831 - val_accuracy: 0.8638\n",
      "Epoch 6/10\n",
      "1719/1719 [==============================] - 4s 2ms/step - loss: 0.3703 - accuracy: 0.8693 - val_loss: 0.3890 - val_accuracy: 0.8630\n",
      "Epoch 7/10\n",
      "1719/1719 [==============================] - 4s 2ms/step - loss: 0.3600 - accuracy: 0.8725 - val_loss: 0.3740 - val_accuracy: 0.8654\n",
      "Epoch 8/10\n",
      "1719/1719 [==============================] - 4s 2ms/step - loss: 0.3510 - accuracy: 0.8760 - val_loss: 0.3702 - val_accuracy: 0.8646\n",
      "Epoch 9/10\n",
      "1719/1719 [==============================] - 4s 2ms/step - loss: 0.3431 - accuracy: 0.8780 - val_loss: 0.3650 - val_accuracy: 0.8684\n",
      "Epoch 10/10\n",
      "1719/1719 [==============================] - 4s 2ms/step - loss: 0.3361 - accuracy: 0.8803 - val_loss: 0.3582 - val_accuracy: 0.8706\n"
     ]
    }
   ],
   "source": [
    "history_power_scheduling = build_and_train_model(optimizer)"
   ]
  },
  {
   "cell_type": "markdown",
   "id": "40745ec2-3a07-4048-b004-fb8fc2f4b654",
   "metadata": {},
   "source": [
    "### Exponential Scheduling"
   ]
  },
  {
   "cell_type": "code",
   "execution_count": 42,
   "id": "194569b1-25a2-40c2-a73e-22c9f9873ff3",
   "metadata": {},
   "outputs": [],
   "source": [
    "lr_schedule = tf.keras.optimizers.schedules.ExponentialDecay(\n",
    "    initial_learning_rate=0.01,\n",
    "    decay_steps=20_000,\n",
    "    decay_rate=0.1,\n",
    "    staircase=False\n",
    ")\n",
    "optimizer = tf.keras.optimizers.SGD(learning_rate=lr_schedule)"
   ]
  },
  {
   "cell_type": "code",
   "execution_count": 43,
   "id": "e59f7429-af7d-49b5-9de8-b427c3548f0a",
   "metadata": {},
   "outputs": [
    {
     "name": "stdout",
     "output_type": "stream",
     "text": [
      "Epoch 1/10\n",
      "1719/1719 [==============================] - 4s 2ms/step - loss: 0.6774 - accuracy: 0.7687 - val_loss: 0.4909 - val_accuracy: 0.8304\n",
      "Epoch 2/10\n",
      "1719/1719 [==============================] - 4s 2ms/step - loss: 0.4723 - accuracy: 0.8336 - val_loss: 0.4506 - val_accuracy: 0.8342\n",
      "Epoch 3/10\n",
      "1719/1719 [==============================] - 4s 2ms/step - loss: 0.4284 - accuracy: 0.8476 - val_loss: 0.4152 - val_accuracy: 0.8522\n",
      "Epoch 4/10\n",
      "1719/1719 [==============================] - 4s 2ms/step - loss: 0.4061 - accuracy: 0.8568 - val_loss: 0.3941 - val_accuracy: 0.8578\n",
      "Epoch 5/10\n",
      "1719/1719 [==============================] - 4s 2ms/step - loss: 0.3890 - accuracy: 0.8625 - val_loss: 0.3888 - val_accuracy: 0.8594\n",
      "Epoch 6/10\n",
      "1719/1719 [==============================] - 4s 2ms/step - loss: 0.3770 - accuracy: 0.8665 - val_loss: 0.3906 - val_accuracy: 0.8594\n",
      "Epoch 7/10\n",
      "1719/1719 [==============================] - 4s 2ms/step - loss: 0.3686 - accuracy: 0.8688 - val_loss: 0.3753 - val_accuracy: 0.8620\n",
      "Epoch 8/10\n",
      "1719/1719 [==============================] - 4s 2ms/step - loss: 0.3615 - accuracy: 0.8716 - val_loss: 0.3734 - val_accuracy: 0.8622\n",
      "Epoch 9/10\n",
      "1719/1719 [==============================] - 4s 2ms/step - loss: 0.3557 - accuracy: 0.8737 - val_loss: 0.3666 - val_accuracy: 0.8666\n",
      "Epoch 10/10\n",
      "1719/1719 [==============================] - 4s 2ms/step - loss: 0.3508 - accuracy: 0.8753 - val_loss: 0.3646 - val_accuracy: 0.8702\n"
     ]
    }
   ],
   "source": [
    "history_exponential_scheduling = build_and_train_model(optimizer)"
   ]
  },
  {
   "cell_type": "markdown",
   "id": "916d173b-f9d1-49cd-9fbc-189d2117a79f",
   "metadata": {},
   "source": [
    "### Picewise Constant Scheduling"
   ]
  },
  {
   "cell_type": "code",
   "execution_count": 44,
   "id": "4ee65f60-8e96-456b-ab9a-fe48ed42a919",
   "metadata": {},
   "outputs": [],
   "source": [
    "lr_schedule = tf.keras.optimizers.schedules.PiecewiseConstantDecay(\n",
    "    boundaries=[50_000, 80_000],\n",
    "    values=[0.01, 0.005, 0.001]\n",
    ")\n",
    "optimizer = tf.keras.optimizers.SGD(learning_rate=lr_schedule)"
   ]
  },
  {
   "cell_type": "code",
   "execution_count": 45,
   "id": "b745f304-8957-48ca-a125-dd2f3e5a9e5e",
   "metadata": {},
   "outputs": [
    {
     "name": "stdout",
     "output_type": "stream",
     "text": [
      "Epoch 1/10\n",
      "1719/1719 [==============================] - 5s 2ms/step - loss: 0.6846 - accuracy: 0.7660 - val_loss: 0.4870 - val_accuracy: 0.8290\n",
      "Epoch 2/10\n",
      "1719/1719 [==============================] - 4s 2ms/step - loss: 0.4673 - accuracy: 0.8348 - val_loss: 0.4629 - val_accuracy: 0.8282\n",
      "Epoch 3/10\n",
      "1719/1719 [==============================] - 4s 2ms/step - loss: 0.4190 - accuracy: 0.8511 - val_loss: 0.4137 - val_accuracy: 0.8554\n",
      "Epoch 4/10\n",
      "1719/1719 [==============================] - 4s 2ms/step - loss: 0.3936 - accuracy: 0.8603 - val_loss: 0.3871 - val_accuracy: 0.8598\n",
      "Epoch 5/10\n",
      "1719/1719 [==============================] - 4s 2ms/step - loss: 0.3729 - accuracy: 0.8673 - val_loss: 0.3742 - val_accuracy: 0.8656\n",
      "Epoch 6/10\n",
      "1719/1719 [==============================] - 4s 2ms/step - loss: 0.3557 - accuracy: 0.8723 - val_loss: 0.3875 - val_accuracy: 0.8664\n",
      "Epoch 7/10\n",
      "1719/1719 [==============================] - 4s 2ms/step - loss: 0.3445 - accuracy: 0.8750 - val_loss: 0.3589 - val_accuracy: 0.8702\n",
      "Epoch 8/10\n",
      "1719/1719 [==============================] - 4s 2ms/step - loss: 0.3332 - accuracy: 0.8791 - val_loss: 0.3566 - val_accuracy: 0.8664\n",
      "Epoch 9/10\n",
      "1719/1719 [==============================] - 4s 2ms/step - loss: 0.3228 - accuracy: 0.8834 - val_loss: 0.3411 - val_accuracy: 0.8756\n",
      "Epoch 10/10\n",
      "1719/1719 [==============================] - 4s 2ms/step - loss: 0.3145 - accuracy: 0.8859 - val_loss: 0.3468 - val_accuracy: 0.8728\n"
     ]
    }
   ],
   "source": [
    "history_piecewise_scheduling = build_and_train_model(optimizer)"
   ]
  },
  {
   "cell_type": "markdown",
   "id": "edc9895d-f423-4cfe-917e-b10b76e22be0",
   "metadata": {},
   "source": [
    "### Performance Scheduling"
   ]
  },
  {
   "cell_type": "code",
   "execution_count": 46,
   "id": "ef208e48-59bd-4f77-8c3e-137d5a096e0a",
   "metadata": {},
   "outputs": [],
   "source": [
    "model = build_model()\n",
    "optimizer = tf.keras.optimizers.SGD(learning_rate=0.01)\n",
    "model.compile(loss=\"sparse_categorical_crossentropy\", optimizer=optimizer,\n",
    "             metrics=[\"accuracy\"])"
   ]
  },
  {
   "cell_type": "code",
   "execution_count": 47,
   "id": "77fb6f78-f335-498f-9804-f14e8ca28d14",
   "metadata": {},
   "outputs": [
    {
     "name": "stdout",
     "output_type": "stream",
     "text": [
      "Epoch 1/10\n",
      "1719/1719 [==============================] - 4s 2ms/step - loss: 0.6982 - accuracy: 0.7614 - val_loss: 0.4863 - val_accuracy: 0.8286 - lr: 0.0100\n",
      "Epoch 2/10\n",
      "1719/1719 [==============================] - 4s 2ms/step - loss: 0.4716 - accuracy: 0.8333 - val_loss: 0.4449 - val_accuracy: 0.8412 - lr: 0.0100\n",
      "Epoch 3/10\n",
      "1719/1719 [==============================] - 4s 2ms/step - loss: 0.4225 - accuracy: 0.8487 - val_loss: 0.4184 - val_accuracy: 0.8520 - lr: 0.0100\n",
      "Epoch 4/10\n",
      "1719/1719 [==============================] - 4s 2ms/step - loss: 0.3971 - accuracy: 0.8592 - val_loss: 0.3843 - val_accuracy: 0.8654 - lr: 0.0100\n",
      "Epoch 5/10\n",
      "1719/1719 [==============================] - 4s 2ms/step - loss: 0.3758 - accuracy: 0.8663 - val_loss: 0.3819 - val_accuracy: 0.8638 - lr: 0.0100\n",
      "Epoch 6/10\n",
      "1719/1719 [==============================] - 4s 2ms/step - loss: 0.3587 - accuracy: 0.8712 - val_loss: 0.3846 - val_accuracy: 0.8632 - lr: 0.0100\n",
      "Epoch 7/10\n",
      "1719/1719 [==============================] - 4s 2ms/step - loss: 0.3464 - accuracy: 0.8746 - val_loss: 0.3611 - val_accuracy: 0.8710 - lr: 0.0100\n",
      "Epoch 8/10\n",
      "1719/1719 [==============================] - 4s 2ms/step - loss: 0.3348 - accuracy: 0.8796 - val_loss: 0.3628 - val_accuracy: 0.8674 - lr: 0.0100\n",
      "Epoch 9/10\n",
      "1719/1719 [==============================] - 4s 2ms/step - loss: 0.3249 - accuracy: 0.8836 - val_loss: 0.3479 - val_accuracy: 0.8748 - lr: 0.0100\n",
      "Epoch 10/10\n",
      "1719/1719 [==============================] - 4s 2ms/step - loss: 0.3151 - accuracy: 0.8857 - val_loss: 0.3467 - val_accuracy: 0.8718 - lr: 0.0100\n"
     ]
    }
   ],
   "source": [
    "lr_scheduler = tf.keras.callbacks.ReduceLROnPlateau(factor=0.5, patience=5)\n",
    "history = model.fit(X_train, y_train, epochs=10,\n",
    "                   validation_data=(X_valid, y_valid),\n",
    "                   callbacks=[lr_scheduler])"
   ]
  },
  {
   "cell_type": "markdown",
   "id": "19fadcf5-430b-41be-aeb8-c732b6a50ba5",
   "metadata": {},
   "source": [
    "# Avoiding Overfitting Through Regularization"
   ]
  },
  {
   "cell_type": "markdown",
   "id": "569cc425-27f5-460f-88eb-f5fefd6efbaa",
   "metadata": {},
   "source": [
    "### l1 and l2 regularization"
   ]
  },
  {
   "cell_type": "code",
   "execution_count": 48,
   "id": "db217ae7-d259-4e22-afd5-929758836ae7",
   "metadata": {},
   "outputs": [],
   "source": [
    "layer = tf.keras.layers.Dense(100, activation=\"relu\",\n",
    "                             kernel_initializer=\"he_normal\",\n",
    "                             kernel_regularizer=tf.keras.regularizers.l2(0.01))"
   ]
  },
  {
   "cell_type": "code",
   "execution_count": 49,
   "id": "b0cdfea7-18ac-40f9-8dd5-45c33c6a5a1a",
   "metadata": {},
   "outputs": [],
   "source": [
    "tf.random.set_seed(42)"
   ]
  },
  {
   "cell_type": "code",
   "execution_count": 50,
   "id": "0fa232a6-7ea2-4535-ab20-3352c85382cb",
   "metadata": {},
   "outputs": [],
   "source": [
    "from functools import partial\n",
    "RegularizedDense = partial(tf.keras.layers.Dense,\n",
    "                          activation=\"relu\",\n",
    "                          kernel_initializer=\"he_normal\",\n",
    "                          kernel_regularizer=tf.keras.regularizers.l2(0.01))\n",
    "\n",
    "model = tf.keras.Sequential([\n",
    "    tf.keras.layers.Flatten(input_shape=[28, 28]),\n",
    "    RegularizedDense(100),\n",
    "    RegularizedDense(100),\n",
    "    RegularizedDense(10, activation=\"softmax\")\n",
    "])"
   ]
  },
  {
   "cell_type": "code",
   "execution_count": 51,
   "id": "8d065a82-17cf-4773-b94e-52065927d067",
   "metadata": {},
   "outputs": [
    {
     "name": "stdout",
     "output_type": "stream",
     "text": [
      "Epoch 1/2\n",
      "1719/1719 [==============================] - 5s 2ms/step - loss: 3.1470 - accuracy: 0.7715 - val_loss: 1.8709 - val_accuracy: 0.8248\n",
      "Epoch 2/2\n",
      "1719/1719 [==============================] - 4s 2ms/step - loss: 1.4330 - accuracy: 0.8144 - val_loss: 1.1302 - val_accuracy: 0.8172\n"
     ]
    }
   ],
   "source": [
    "optimizer = tf.keras.optimizers.SGD(learning_rate=0.02)\n",
    "model.compile(loss=\"sparse_categorical_crossentropy\", optimizer=optimizer,\n",
    "              metrics=[\"accuracy\"])\n",
    "history = model.fit(X_train, y_train, epochs=2,\n",
    "                    validation_data=(X_valid, y_valid))"
   ]
  },
  {
   "cell_type": "markdown",
   "id": "ef7872c5-cda1-4e8b-b7cc-3c71bb9c86d9",
   "metadata": {},
   "source": [
    "### Dropout"
   ]
  },
  {
   "cell_type": "code",
   "execution_count": 52,
   "id": "af8b7052-7b2e-4011-b9b9-9152cc761101",
   "metadata": {},
   "outputs": [],
   "source": [
    "tf.random.set_seed(42)"
   ]
  },
  {
   "cell_type": "code",
   "execution_count": 53,
   "id": "b845e5af-187e-424f-9092-630f03b7d2eb",
   "metadata": {},
   "outputs": [],
   "source": [
    "model = tf.keras.Sequential([\n",
    "    tf.keras.layers.Flatten(input_shape=[28, 28]),\n",
    "    tf.keras.layers.Dropout(rate=0.2),\n",
    "    tf.keras.layers.Dense(100, activation=\"relu\",\n",
    "                         kernel_initializer=\"he_normal\"),\n",
    "    tf.keras.layers.Dropout(rate=0.2),\n",
    "    tf.keras.layers.Dense(100, activation=\"relu\",\n",
    "                         kernel_initializer=\"he_normal\"),\n",
    "    tf.keras.layers.Dropout(rate=0.2),\n",
    "    tf.keras.layers.Dense(10, activation=\"softmax\")\n",
    "])"
   ]
  },
  {
   "cell_type": "code",
   "execution_count": 54,
   "id": "cd07d9b2-a9b3-41ac-b370-cd948b84a019",
   "metadata": {},
   "outputs": [
    {
     "name": "stdout",
     "output_type": "stream",
     "text": [
      "Epoch 1/10\n",
      "1719/1719 [==============================] - 5s 3ms/step - loss: 0.6790 - accuracy: 0.7507 - val_loss: 0.4635 - val_accuracy: 0.8196\n",
      "Epoch 2/10\n",
      "1719/1719 [==============================] - 5s 3ms/step - loss: 0.5128 - accuracy: 0.8106 - val_loss: 0.4295 - val_accuracy: 0.8374\n",
      "Epoch 3/10\n",
      "1719/1719 [==============================] - 5s 3ms/step - loss: 0.4740 - accuracy: 0.8262 - val_loss: 0.4001 - val_accuracy: 0.8480\n",
      "Epoch 4/10\n",
      "1719/1719 [==============================] - 5s 3ms/step - loss: 0.4464 - accuracy: 0.8358 - val_loss: 0.3740 - val_accuracy: 0.8604\n",
      "Epoch 5/10\n",
      "1719/1719 [==============================] - 5s 3ms/step - loss: 0.4350 - accuracy: 0.8381 - val_loss: 0.3658 - val_accuracy: 0.8580\n",
      "Epoch 6/10\n",
      "1719/1719 [==============================] - 5s 3ms/step - loss: 0.4242 - accuracy: 0.8409 - val_loss: 0.3541 - val_accuracy: 0.8654\n",
      "Epoch 7/10\n",
      "1719/1719 [==============================] - 5s 3ms/step - loss: 0.4135 - accuracy: 0.8467 - val_loss: 0.3501 - val_accuracy: 0.8686\n",
      "Epoch 8/10\n",
      "1719/1719 [==============================] - 5s 3ms/step - loss: 0.4036 - accuracy: 0.8510 - val_loss: 0.3413 - val_accuracy: 0.8688\n",
      "Epoch 9/10\n",
      "1719/1719 [==============================] - 5s 3ms/step - loss: 0.3973 - accuracy: 0.8522 - val_loss: 0.3459 - val_accuracy: 0.8664\n",
      "Epoch 10/10\n",
      "1719/1719 [==============================] - 5s 3ms/step - loss: 0.3936 - accuracy: 0.8545 - val_loss: 0.3407 - val_accuracy: 0.8740\n"
     ]
    }
   ],
   "source": [
    "optimizer = tf.keras.optimizers.SGD(learning_rate=0.01, momentum=0.9)\n",
    "model.compile(loss=\"sparse_categorical_crossentropy\", optimizer=optimizer,\n",
    "              metrics=[\"accuracy\"])\n",
    "history = model.fit(X_train, y_train, epochs=10,\n",
    "                    validation_data=(X_valid, y_valid))"
   ]
  },
  {
   "cell_type": "code",
   "execution_count": 55,
   "id": "8dff6bc0-2b01-4210-8cbb-bd2d8fe59889",
   "metadata": {},
   "outputs": [
    {
     "name": "stdout",
     "output_type": "stream",
     "text": [
      "1719/1719 [==============================] - 3s 2ms/step - loss: 0.3106 - accuracy: 0.8857\n"
     ]
    },
    {
     "data": {
      "text/plain": [
       "[0.3105733096599579, 0.8857091069221497]"
      ]
     },
     "execution_count": 55,
     "metadata": {},
     "output_type": "execute_result"
    }
   ],
   "source": [
    "model.evaluate(X_train, y_train)"
   ]
  },
  {
   "cell_type": "code",
   "execution_count": 56,
   "id": "aebbcaca-d1f7-472e-8042-55a1014b7411",
   "metadata": {},
   "outputs": [
    {
     "name": "stdout",
     "output_type": "stream",
     "text": [
      "313/313 [==============================] - 1s 2ms/step - loss: 0.3642 - accuracy: 0.8687\n"
     ]
    },
    {
     "data": {
      "text/plain": [
       "[0.3641897439956665, 0.8687000274658203]"
      ]
     },
     "execution_count": 56,
     "metadata": {},
     "output_type": "execute_result"
    }
   ],
   "source": [
    "model.evaluate(X_test, y_test)"
   ]
  },
  {
   "cell_type": "markdown",
   "id": "fac3d560-e91f-4c64-9ad3-b43b29ef9582",
   "metadata": {},
   "source": [
    "### MC Dropout"
   ]
  },
  {
   "cell_type": "code",
   "execution_count": 57,
   "id": "c18a3c07-ddd1-4eef-bc8c-5a248edb2d83",
   "metadata": {},
   "outputs": [],
   "source": [
    "tf.random.set_seed(42)"
   ]
  },
  {
   "cell_type": "code",
   "execution_count": 58,
   "id": "708def0f-7e53-45c2-8ca2-dcc787a945c4",
   "metadata": {},
   "outputs": [],
   "source": [
    "y_probas = np.stack([model(X_test, training=True)\n",
    "                    for sample in range(100)])\n",
    "y_proba = y_probas.mean(axis=0)"
   ]
  },
  {
   "cell_type": "code",
   "execution_count": 59,
   "id": "2e257066-6df2-41b5-ba5c-5e7ee5b0d2bf",
   "metadata": {},
   "outputs": [
    {
     "name": "stdout",
     "output_type": "stream",
     "text": [
      "1/1 [==============================] - 2s 2s/step\n"
     ]
    },
    {
     "data": {
      "text/plain": [
       "array([[0.   , 0.   , 0.   , 0.   , 0.   , 0.009, 0.   , 0.167, 0.   ,\n",
       "        0.823]], dtype=float32)"
      ]
     },
     "execution_count": 59,
     "metadata": {},
     "output_type": "execute_result"
    }
   ],
   "source": [
    "model.predict(X_test[:1]).round(3)"
   ]
  },
  {
   "cell_type": "code",
   "execution_count": 60,
   "id": "f53a242b-6732-46e5-925a-6d3dc6d04ce0",
   "metadata": {},
   "outputs": [
    {
     "data": {
      "text/plain": [
       "array([0.001, 0.   , 0.001, 0.001, 0.   , 0.028, 0.   , 0.195, 0.001,\n",
       "       0.773], dtype=float32)"
      ]
     },
     "execution_count": 60,
     "metadata": {},
     "output_type": "execute_result"
    }
   ],
   "source": [
    "y_proba[0].round(3)"
   ]
  },
  {
   "cell_type": "code",
   "execution_count": 61,
   "id": "0264b1c7-3205-4c1b-a754-e0d3da45b1a3",
   "metadata": {},
   "outputs": [
    {
     "data": {
      "text/plain": [
       "0.8713"
      ]
     },
     "execution_count": 61,
     "metadata": {},
     "output_type": "execute_result"
    }
   ],
   "source": [
    "y_pred = y_proba.argmax(axis=1)\n",
    "accuracy = (y_pred == y_test).sum() / len(y_test)\n",
    "accuracy"
   ]
  },
  {
   "cell_type": "markdown",
   "id": "d167daaa-25c9-48a5-bf0a-f68c01c9ddb1",
   "metadata": {},
   "source": [
    "### Max norm"
   ]
  },
  {
   "cell_type": "code",
   "execution_count": 63,
   "id": "97df58b9-f513-4728-8704-a2754ce5afd2",
   "metadata": {},
   "outputs": [],
   "source": [
    "dense = tf.keras.layers.Dense(100, activation=\"relu\",\n",
    "                             kernel_initializer=\"he_normal\",\n",
    "                             kernel_constraint=tf.keras.constraints.max_norm(1.))"
   ]
  },
  {
   "cell_type": "code",
   "execution_count": 65,
   "id": "48caf273-e15c-4b71-8fd9-faf6e44d79f5",
   "metadata": {},
   "outputs": [
    {
     "name": "stdout",
     "output_type": "stream",
     "text": [
      "Epoch 1/10\n",
      "1719/1719 [==============================] - 6s 3ms/step - loss: 0.5501 - accuracy: 0.8035 - val_loss: 0.4668 - val_accuracy: 0.8210\n",
      "Epoch 2/10\n",
      "1719/1719 [==============================] - 4s 3ms/step - loss: 0.4110 - accuracy: 0.8511 - val_loss: 0.4091 - val_accuracy: 0.8468\n",
      "Epoch 3/10\n",
      "1719/1719 [==============================] - 4s 3ms/step - loss: 0.3816 - accuracy: 0.8607 - val_loss: 0.3709 - val_accuracy: 0.8654\n",
      "Epoch 4/10\n",
      "1719/1719 [==============================] - 4s 3ms/step - loss: 0.3629 - accuracy: 0.8677 - val_loss: 0.3481 - val_accuracy: 0.8728\n",
      "Epoch 5/10\n",
      "1719/1719 [==============================] - 5s 3ms/step - loss: 0.3496 - accuracy: 0.8702 - val_loss: 0.3554 - val_accuracy: 0.8732\n",
      "Epoch 6/10\n",
      "1719/1719 [==============================] - 5s 3ms/step - loss: 0.3449 - accuracy: 0.8721 - val_loss: 0.3828 - val_accuracy: 0.8634\n",
      "Epoch 7/10\n",
      "1719/1719 [==============================] - 5s 3ms/step - loss: 0.3343 - accuracy: 0.8752 - val_loss: 0.4066 - val_accuracy: 0.8498\n",
      "Epoch 8/10\n",
      "1719/1719 [==============================] - 4s 3ms/step - loss: 0.3318 - accuracy: 0.8757 - val_loss: 0.3447 - val_accuracy: 0.8718\n",
      "Epoch 9/10\n",
      "1719/1719 [==============================] - 4s 3ms/step - loss: 0.3328 - accuracy: 0.8761 - val_loss: 0.3818 - val_accuracy: 0.8544\n",
      "Epoch 10/10\n",
      "1719/1719 [==============================] - 4s 3ms/step - loss: 0.3228 - accuracy: 0.8785 - val_loss: 0.3696 - val_accuracy: 0.8668\n"
     ]
    }
   ],
   "source": [
    "MaxNormDense = partial(tf.keras.layers.Dense,\n",
    "                      activation=\"relu\", kernel_initializer=\"he_normal\",\n",
    "                      kernel_constraint=tf.keras.constraints.max_norm(1.))\n",
    "\n",
    "tf.random.set_seed(42)\n",
    "model = tf.keras.Sequential([\n",
    "    tf.keras.layers.Flatten(input_shape=[28, 28]),\n",
    "    MaxNormDense(100),\n",
    "    MaxNormDense(100),\n",
    "    tf.keras.layers.Dense(10, activation=\"softmax\")\n",
    "])\n",
    "optimizer = tf.keras.optimizers.SGD(learning_rate=0.01, momentum=0.9)\n",
    "model.compile(loss=\"sparse_categorical_crossentropy\", optimizer=optimizer,\n",
    "             metrics=[\"accuracy\"])\n",
    "history = model.fit(X_train, y_train, epochs=10,\n",
    "                   validation_data=(X_valid, y_valid))"
   ]
  },
  {
   "cell_type": "code",
   "execution_count": null,
   "id": "612be3d4-a218-4da0-8149-0d194b3298f5",
   "metadata": {},
   "outputs": [],
   "source": []
  }
 ],
 "metadata": {
  "kernelspec": {
   "display_name": "Python 3 (ipykernel)",
   "language": "python",
   "name": "python3"
  },
  "language_info": {
   "codemirror_mode": {
    "name": "ipython",
    "version": 3
   },
   "file_extension": ".py",
   "mimetype": "text/x-python",
   "name": "python",
   "nbconvert_exporter": "python",
   "pygments_lexer": "ipython3",
   "version": "3.11.3"
  }
 },
 "nbformat": 4,
 "nbformat_minor": 5
}
